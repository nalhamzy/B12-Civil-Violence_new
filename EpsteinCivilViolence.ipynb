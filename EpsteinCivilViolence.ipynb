{
 "cells": [
  {
   "cell_type": "markdown",
   "metadata": {},
   "source": [
    "\n",
    "The code used is on top of Epstein Model of Civil Violence \n",
    "\n",
    "Civilians can have four states : Susciptible, Honest, Corrupted or Jailed.\n",
    "\n",
    "The corruption density is specified using corruption_level while the susceptible density is controlled by susceptible_level. The honest density = 1 - (corruption_level + susceptible_level).\n",
    "\n",
    "Civilians can have jobs and the initial rate is specified using initial_unemployment_rate. \n",
    "\n",
    "\n",
    "\n"
   ]
  },
  {
   "cell_type": "code",
   "execution_count": 1,
   "metadata": {},
   "outputs": [],
   "source": [
    "import matplotlib.pyplot as plt\n",
    "%matplotlib inline\n",
    "import numpy as np\n",
    "from epstein_civil_violence.agent import Citizen, Cop\n",
    "from epstein_civil_violence.model import EpsteinCivilViolence"
   ]
  },
  {
   "cell_type": "code",
   "execution_count": null,
   "metadata": {},
   "outputs": [],
   "source": [
    "model = EpsteinCivilViolence(height=50, \n",
    "                           width=50, \n",
    "                           citizen_density=.7, \n",
    "                           cop_density=.074, \n",
    "                           citizen_vision=7, \n",
    "                           cop_vision=7, \n",
    "                           legitimacy=.8, \n",
    "                           max_jail_term=1000, \n",
    "                           initial_unemployment_rate = 0.1,\n",
    "                           corruption_level = 0.05,\n",
    "                           honest_level = 0.05,\n",
    "                           corruption_transmission_prop = 0.09,\n",
    "                           honest_transmission_prop = 0.009,\n",
    "                           max_corruption_saturation = 0.45,\n",
    "                           max_honest_saturation = 0.40,\n",
    "\n",
    "                           max_iters=100) # cap the number of steps the model takes\n",
    "model.run_model()\n",
    "model_out = model.datacollector.get_model_vars_dataframe()\n",
    "print(model_out)\n",
    "ax = model_out.plot()\n",
    "ax.set_title('Citizen Condition Over Time')\n",
    "ax.set_xlabel('Step')\n",
    "ax.set_ylabel('Number of Citizens')\n",
    "_ = ax.legend(bbox_to_anchor=(1.35, 1.025))"
   ]
  },
  {
   "cell_type": "code",
   "execution_count": null,
   "metadata": {},
   "outputs": [],
   "source": [
    "\n",
    "\n"
   ]
  },
  {
   "cell_type": "code",
   "execution_count": null,
   "metadata": {},
   "outputs": [],
   "source": []
  },
  {
   "cell_type": "code",
   "execution_count": null,
   "metadata": {},
   "outputs": [],
   "source": [
    "model = EpsteinCivilViolence(height=50, \n",
    "                           width=50, \n",
    "                           citizen_density=.7, \n",
    "                           cop_density=.074, \n",
    "                           citizen_vision=7, \n",
    "                           cop_vision=7, \n",
    "                           legitimacy=.85, \n",
    "                           max_jail_term=1000, \n",
    "                           initial_unemployment_rate = 0.1,\n",
    "                           corruption_level = 0.2,\n",
    "                           honest_level = 0.05,\n",
    "                           max_corruption_saturation = 0.45,\n",
    "                           max_honest_saturation = 0.35,\n",
    "                           max_iters=100) # cap the number of steps the model takes\n",
    "model.run_model()\n",
    "model_out = model.datacollector.get_model_vars_dataframe()\n",
    "print(model_out)\n",
    "ax = model_out.plot()\n",
    "ax.set_title('Citizen Condition Over Time')\n",
    "ax.set_xlabel('Step')\n",
    "ax.set_ylabel('Number of Citizens')\n",
    "_ = ax.legend(bbox_to_anchor=(1.35, 1.025))"
   ]
  },
  {
   "cell_type": "code",
   "execution_count": null,
   "metadata": {},
   "outputs": [],
   "source": [
    "\n",
    "\n"
   ]
  }
 ],
 "metadata": {
  "kernelspec": {
   "display_name": "Python 3",
   "language": "python",
   "name": "python3"
  },
  "language_info": {
   "codemirror_mode": {
    "name": "ipython",
    "version": 3
   },
   "file_extension": ".py",
   "mimetype": "text/x-python",
   "name": "python",
   "nbconvert_exporter": "python",
   "pygments_lexer": "ipython3",
   "version": "3.7.3"
  }
 },
 "nbformat": 4,
 "nbformat_minor": 1
}
